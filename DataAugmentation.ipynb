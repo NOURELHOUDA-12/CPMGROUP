{
  "cells": [
    {
      "cell_type": "markdown",
      "metadata": {
        "id": "view-in-github",
        "colab_type": "text"
      },
      "source": [
        "<a href=\"https://colab.research.google.com/github/NOURELHOUDA-12/CPMGROUP/blob/main/DataAugmentation.ipynb\" target=\"_parent\"><img src=\"https://colab.research.google.com/assets/colab-badge.svg\" alt=\"Open In Colab\"/></a>"
      ]
    },
    {
      "cell_type": "code",
      "execution_count": null,
      "metadata": {
        "colab": {
          "base_uri": "https://localhost:8080/"
        },
        "id": "4RLu034zVOJu",
        "outputId": "b2d39285-39ab-4c4e-f571-2f40ea7976aa"
      },
      "outputs": [
        {
          "name": "stdout",
          "output_type": "stream",
          "text": [
            "Mounted at /content/drive\n"
          ]
        }
      ],
      "source": [
        "from google.colab import drive\n",
        "drive.mount('/content/drive')"
      ]
    },
    {
      "cell_type": "code",
      "execution_count": null,
      "metadata": {
        "id": "fj5UebxWUVlx"
      },
      "outputs": [],
      "source": [
        "import cv2\n",
        "import matplotlib.pyplot as plt\n",
        "\n",
        "import numpy as np\n",
        "import os\n",
        "import imgaug.augmenters as iaa\n",
        "from multiprocessing import Pool\n",
        "\n",
        "\n",
        "import shutil\n",
        "import random\n",
        "\n",
        "import tensorflow as tf\n",
        "from tensorflow.keras.preprocessing.image import ImageDataGenerator\n",
        "from tensorflow.keras.models import Sequential\n",
        "from tensorflow.keras.layers import Conv2D, MaxPooling2D, Flatten, Dense"
      ]
    },
    {
      "cell_type": "code",
      "execution_count": null,
      "metadata": {
        "id": "7iJJW8_rUn-_"
      },
      "outputs": [],
      "source": []
    },
    {
      "cell_type": "code",
      "execution_count": null,
      "metadata": {
        "id": "lAlKipvbUoCT"
      },
      "outputs": [],
      "source": [
        "\n",
        "def Data_augmentation(source_dir, destination_dir, C):\n",
        "    # Créer un séquenceur de transformations\n",
        "    seq = iaa.Sequential([\n",
        "        iaa.Fliplr(0.5),  # Réflexion horizontale avec une probabilité de 0.5\n",
        "        iaa.Crop(percent=(0, 0.1)),  # Recadrage aléatoire de 0% à 10%\n",
        "        iaa.Sometimes(0.5, iaa.GaussianBlur(sigma=(0, 0.5))),  # Flou gaussien avec une probabilité de 0.5\n",
        "        iaa.LinearContrast((0.75, 1.5)) # Normalisation de contraste aléatoire\n",
        "    ])\n",
        "\n",
        "    for filename in os.listdir(source_dir):\n",
        "        image_path = os.path.join(source_dir, filename)\n",
        "        image = cv2.imread(image_path)\n",
        "        for i in range(C):\n",
        "            augmented_image = seq.augment_image(image)\n",
        "            new_filename = os.path.splitext(filename)[0] + f\"_aug_{i}.jpg\"  # Nom de fichier unique pour chaque image augmentée\n",
        "            cv2.imwrite(os.path.join(destination_dir, new_filename), augmented_image)"
      ]
    },
    {
      "cell_type": "code",
      "execution_count": null,
      "metadata": {
        "id": "ivNQrnhbUoFk"
      },
      "outputs": [],
      "source": []
    },
    {
      "cell_type": "code",
      "execution_count": null,
      "metadata": {
        "colab": {
          "background_save": true
        },
        "id": "WT9TDzPNUoId"
      },
      "outputs": [],
      "source": [
        "source_directory1 ='/content/drive/Shareddrives/Mr Anis _Projet Data science _tique/S2/A_Base_finale/dromidarii/femelle'\n",
        "destination_directory1 = '/content/drive/Shareddrives/Mr Anis _Projet Data science _tique/S2/Data_augmentation/couleur/dromidarii/femelle'\n",
        "Data_augmentation(source_directory1, destination_directory1, 10)\n"
      ]
    },
    {
      "cell_type": "code",
      "execution_count": null,
      "metadata": {
        "colab": {
          "base_uri": "https://localhost:8080/"
        },
        "id": "6h8odF5GerPi",
        "outputId": "cb23667c-3998-463a-bb0e-75ccddba9a12"
      },
      "outputs": [
        {
          "name": "stdout",
          "output_type": "stream",
          "text": [
            "succées\n"
          ]
        }
      ],
      "source": [
        "source_directory1 ='/content/drive/Shareddrives/Mr Anis _Projet Data science _tique/S2/A_Base_finale/dromidarii/femelle'\n",
        "destination_directory1 = '/content/drive/Shareddrives/Mr Anis _Projet Data science _tique/S2/Data_augmentation/couleur/dromidarii/femelle2'\n",
        "Data_augmentation(source_directory1, destination_directory1, 10)\n",
        "print(\"succées\")"
      ]
    },
    {
      "cell_type": "code",
      "execution_count": null,
      "metadata": {
        "colab": {
          "background_save": true
        },
        "id": "K4pp8wc-erAa",
        "outputId": "80044d02-0479-43a2-d2b5-1f499e5d7418"
      },
      "outputs": [
        {
          "name": "stdout",
          "output_type": "stream",
          "text": [
            "succées\n"
          ]
        }
      ],
      "source": [
        "source_directory1 ='/content/drive/Shareddrives/Mr Anis _Projet Data science _tique/S2/A_Base_finale/dromidarii/male'\n",
        "destination_directory1 = '/content/drive/Shareddrives/Mr Anis _Projet Data science _tique/S2/Data_augmentation/couleur/dromidarii/male2'\n",
        "Data_augmentation(source_directory1, destination_directory1, 10)\n",
        "print(\"succées\")"
      ]
    },
    {
      "cell_type": "code",
      "execution_count": null,
      "metadata": {
        "id": "npxcYOJoUoLp"
      },
      "outputs": [],
      "source": [
        "source_directory1 ='/content/drive/Shareddrives/Mr Anis _Projet Data science _tique/S2/A_Base_finale/dromidarii/male'\n",
        "destination_directory1 = '/content/drive/Shareddrives/Mr Anis _Projet Data science _tique/S2/Data_augmentation/couleur/dromidarii/male'\n",
        "Data_augmentation(source_directory1, destination_directory1,10)\n",
        "print(\"augmentation avec succées\")"
      ]
    },
    {
      "cell_type": "code",
      "execution_count": null,
      "metadata": {
        "id": "3BFvTL6kUoPM"
      },
      "outputs": [],
      "source": [
        "#marginatum"
      ]
    },
    {
      "cell_type": "code",
      "execution_count": null,
      "metadata": {
        "colab": {
          "base_uri": "https://localhost:8080/"
        },
        "id": "y7RRgOJth4uU",
        "outputId": "51300bcb-8708-4ab1-b86e-ceb3e09512e9"
      },
      "outputs": [
        {
          "name": "stdout",
          "output_type": "stream",
          "text": [
            "succées\n"
          ]
        }
      ],
      "source": [
        "source_directory1 ='/content/drive/Shareddrives/Mr Anis _Projet Data science _tique/S2/A_Base_finale/marginatum/femelle'\n",
        "destination_directory1 = '/content/drive/Shareddrives/Mr Anis _Projet Data science _tique/S2/Data_augmentation/couleur/marginatum/femelle'\n",
        "Data_augmentation(source_directory1, destination_directory1, 50)\n",
        "print(\"succées\")"
      ]
    },
    {
      "cell_type": "code",
      "execution_count": null,
      "metadata": {
        "colab": {
          "base_uri": "https://localhost:8080/"
        },
        "id": "G3mD-tG6h4q_",
        "outputId": "c72ac7c0-3efc-4205-d44f-3499e4e9e080"
      },
      "outputs": [
        {
          "name": "stdout",
          "output_type": "stream",
          "text": [
            "succées\n"
          ]
        }
      ],
      "source": [
        "source_directory1 ='/content/drive/Shareddrives/Mr Anis _Projet Data science _tique/S2/A_Base_finale/marginatum/male'\n",
        "destination_directory1 = '/content/drive/Shareddrives/Mr Anis _Projet Data science _tique/S2/Data_augmentation/couleur/marginatum/male'\n",
        "Data_augmentation(source_directory1, destination_directory1, 10)\n",
        "print(\"succées\")"
      ]
    },
    {
      "cell_type": "code",
      "execution_count": null,
      "metadata": {
        "id": "dHQfhLTxh4oD"
      },
      "outputs": [],
      "source": [
        "#excavatum"
      ]
    },
    {
      "cell_type": "code",
      "execution_count": null,
      "metadata": {
        "colab": {
          "base_uri": "https://localhost:8080/"
        },
        "id": "_fjDynKoh4lf",
        "outputId": "33a96f74-4308-47ba-8a87-ec53a2bae2db"
      },
      "outputs": [
        {
          "name": "stdout",
          "output_type": "stream",
          "text": [
            "succées\n"
          ]
        }
      ],
      "source": [
        "source_directory1 ='/content/drive/Shareddrives/Mr Anis _Projet Data science _tique/S2/A_Base_finale/excavatum/male'\n",
        "destination_directory1 = '/content/drive/Shareddrives/Mr Anis _Projet Data science _tique/S2/Data_augmentation/couleur/excavatum/male'\n",
        "Data_augmentation(source_directory1, destination_directory1, 60)\n",
        "print(\"succées\")"
      ]
    },
    {
      "cell_type": "code",
      "execution_count": null,
      "metadata": {
        "colab": {
          "base_uri": "https://localhost:8080/"
        },
        "id": "PlWdCfIxiQZo",
        "outputId": "a425555b-2631-47e1-ebdb-a6a64583f143"
      },
      "outputs": [
        {
          "name": "stdout",
          "output_type": "stream",
          "text": [
            "succées\n"
          ]
        }
      ],
      "source": [
        "source_directory1 ='/content/drive/Shareddrives/Mr Anis _Projet Data science _tique/S2/A_Base_finale/excavatum/femelle'\n",
        "destination_directory1 = '/content/drive/Shareddrives/Mr Anis _Projet Data science _tique/S2/Data_augmentation/couleur/excavatum/femelle'\n",
        "Data_augmentation(source_directory1, destination_directory1, 100)\n",
        "print(\"succées\")"
      ]
    },
    {
      "cell_type": "code",
      "execution_count": null,
      "metadata": {
        "id": "UMRT-R6qiQUd"
      },
      "outputs": [],
      "source": [
        "#impeltatum"
      ]
    },
    {
      "cell_type": "code",
      "execution_count": null,
      "metadata": {
        "id": "EpMpLEOg0hKc"
      },
      "outputs": [],
      "source": [
        "#-----------------------------------------------------------------------------------------------------------------------------"
      ]
    },
    {
      "cell_type": "code",
      "execution_count": null,
      "metadata": {
        "colab": {
          "base_uri": "https://localhost:8080/"
        },
        "id": "I4zkX5mKiQQ4",
        "outputId": "356fabb7-48c4-4f6f-9439-9a58c26c1285"
      },
      "outputs": [
        {
          "name": "stdout",
          "output_type": "stream",
          "text": [
            "succées\n"
          ]
        }
      ],
      "source": [
        "source_directory1 ='/content/drive/Shareddrives/Mr Anis _Projet Data science _tique/S2/A_Base_finale/impeltatum/femelle'\n",
        "destination_directory1 = '/content/drive/Shareddrives/Mr Anis _Projet Data science _tique/S2/Data_augmentation/couleur/impeltatum/femelle'\n",
        "Data_augmentation(source_directory1, destination_directory1, 100)\n",
        "print(\"succées\")"
      ]
    },
    {
      "cell_type": "code",
      "execution_count": null,
      "metadata": {
        "colab": {
          "base_uri": "https://localhost:8080/"
        },
        "id": "cxMQ_6mliQNT",
        "outputId": "f2bc2538-335f-4347-c704-49986b91c80c"
      },
      "outputs": [
        {
          "name": "stdout",
          "output_type": "stream",
          "text": [
            "succées\n"
          ]
        }
      ],
      "source": [
        "source_directory1 ='/content/drive/Shareddrives/Mr Anis _Projet Data science _tique/S2/A_Base_finale/impeltatum/male'\n",
        "destination_directory1 = '/content/drive/Shareddrives/Mr Anis _Projet Data science _tique/S2/Data_augmentation/couleur/impeltatum/male'\n",
        "Data_augmentation(source_directory1, destination_directory1, 70)\n",
        "print(\"succées\")"
      ]
    },
    {
      "cell_type": "code",
      "execution_count": null,
      "metadata": {
        "colab": {
          "base_uri": "https://localhost:8080/"
        },
        "id": "vWXC1Sjnii0N",
        "outputId": "b05dbe1b-4a40-4fc2-da57-495486552298"
      },
      "outputs": [
        {
          "name": "stdout",
          "output_type": "stream",
          "text": [
            "succées\n"
          ]
        }
      ],
      "source": [
        "source_directory1 ='/content/drive/Shareddrives/Mr Anis _Projet Data science _tique/S2/A_Base_finale/scupinse/male'\n",
        "destination_directory1 = '/content/drive/Shareddrives/Mr Anis _Projet Data science _tique/S2/Data_augmentation/couleur/scupinse/male'\n",
        "Data_augmentation(source_directory1, destination_directory1, 90)\n",
        "print(\"succées\")"
      ]
    },
    {
      "cell_type": "code",
      "execution_count": null,
      "metadata": {
        "colab": {
          "base_uri": "https://localhost:8080/"
        },
        "id": "zmj4FGugaIJx",
        "outputId": "80c4e243-1709-4327-c44a-82232eb15b9e"
      },
      "outputs": [
        {
          "name": "stdout",
          "output_type": "stream",
          "text": [
            "succées\n"
          ]
        }
      ],
      "source": [
        "source_directory1 ='/content/drive/Shareddrives/Mr Anis _Projet Data science _tique/S2/A_Base_finale/scupinse/femelle'\n",
        "destination_directory1 = '/content/drive/Shareddrives/Mr Anis _Projet Data science _tique/S2/Data_augmentation/couleur/scupinse/femelle'\n",
        "Data_augmentation(source_directory1, destination_directory1, 90)\n",
        "print(\"succées\")"
      ]
    },
    {
      "cell_type": "code",
      "execution_count": null,
      "metadata": {
        "id": "yWMj3Y_qaIGQ"
      },
      "outputs": [],
      "source": []
    },
    {
      "cell_type": "code",
      "execution_count": null,
      "metadata": {
        "id": "HG3ltXe2aIBk"
      },
      "outputs": [],
      "source": []
    },
    {
      "cell_type": "code",
      "execution_count": null,
      "metadata": {
        "id": "KM1I342aiixG"
      },
      "outputs": [],
      "source": []
    },
    {
      "cell_type": "code",
      "execution_count": null,
      "metadata": {
        "id": "wwqgXTp8iiuH"
      },
      "outputs": [],
      "source": [
        "\n",
        "def count_images_in_directory(directory):\n",
        "  num_images = 0\n",
        "  for filename in os.listdir(directory):\n",
        "    if filename.endswith(('.jpg', '.jpeg', '.png', '.gif', '.bmp','.JPG','PNG')):\n",
        "       num_images += 1\n",
        "\n",
        "  return num_images\n"
      ]
    },
    {
      "cell_type": "code",
      "execution_count": null,
      "metadata": {
        "id": "CNKajOvxiiq9"
      },
      "outputs": [],
      "source": []
    },
    {
      "cell_type": "code",
      "execution_count": null,
      "metadata": {
        "colab": {
          "base_uri": "https://localhost:8080/"
        },
        "id": "CYhEfDHWqrU1",
        "outputId": "5a43bf97-a2b3-4c2a-bd08-0d9ff54cfa86"
      },
      "outputs": [
        {
          "name": "stdout",
          "output_type": "stream",
          "text": [
            "Le dossier /content/drive/Shareddrives/Mr Anis _Projet Data science _tique/S2/Data_augmentation/couleur/impeltatum/male contient 3220 images.\n"
          ]
        }
      ],
      "source": [
        "#impeltatum male\n",
        "directory_path = '/content/drive/Shareddrives/Mr Anis _Projet Data science _tique/S2/Data_augmentation/couleur/impeltatum/male'\n",
        "num_images_impeltatum_male = count_images_in_directory(directory_path)\n",
        "print(\"Le dossier\", directory_path, \"contient\", num_images_impeltatum_male, \"images.\")"
      ]
    },
    {
      "cell_type": "code",
      "execution_count": null,
      "metadata": {
        "colab": {
          "base_uri": "https://localhost:8080/"
        },
        "id": "daNtZ_wBqrX7",
        "outputId": "6f5deb30-129c-4689-b071-f3acb74b7866"
      },
      "outputs": [
        {
          "name": "stdout",
          "output_type": "stream",
          "text": [
            "Le dossier /content/drive/Shareddrives/Mr Anis _Projet Data science _tique/S2/Data_augmentation/couleur/impeltatum/femelle contient 1600 images.\n"
          ]
        }
      ],
      "source": [
        "#impeltatum femelle\n",
        "directory_path = '/content/drive/Shareddrives/Mr Anis _Projet Data science _tique/S2/Data_augmentation/couleur/impeltatum/femelle'\n",
        "num_images_impeltatum_femelle = count_images_in_directory(directory_path)\n",
        "print(\"Le dossier\", directory_path, \"contient\", num_images_impeltatum_femelle, \"images.\")"
      ]
    },
    {
      "cell_type": "code",
      "execution_count": null,
      "metadata": {
        "id": "ZhoDO3__qra0"
      },
      "outputs": [],
      "source": []
    },
    {
      "cell_type": "code",
      "execution_count": null,
      "metadata": {
        "colab": {
          "base_uri": "https://localhost:8080/"
        },
        "id": "qJSw5agtqrdu",
        "outputId": "7d7d5d45-f081-4170-ca0a-10a845eab757"
      },
      "outputs": [
        {
          "name": "stdout",
          "output_type": "stream",
          "text": [
            "Le dossier /content/drive/Shareddrives/Mr Anis _Projet Data science _tique/S2/Data_augmentation/couleur/dromidarii/femelle contient 9700 images.\n"
          ]
        }
      ],
      "source": [
        "#dromidarii femelle\n",
        "directory_path = '/content/drive/Shareddrives/Mr Anis _Projet Data science _tique/S2/Data_augmentation/couleur/dromidarii/femelle'\n",
        "num_images_dromidarii_femelle = count_images_in_directory(directory_path)\n",
        "print(\"Le dossier\", directory_path, \"contient\", num_images_dromidarii_femelle, \"images.\")"
      ]
    },
    {
      "cell_type": "code",
      "execution_count": null,
      "metadata": {
        "colab": {
          "base_uri": "https://localhost:8080/"
        },
        "id": "TUF0caPyqrg4",
        "outputId": "fc90426d-ca4b-43dc-d15c-ca9ea455b643"
      },
      "outputs": [
        {
          "name": "stdout",
          "output_type": "stream",
          "text": [
            "Le dossier /content/drive/Shareddrives/Mr Anis _Projet Data science _tique/S2/Data_augmentation/couleur/dromidarii/male contient 12200 images.\n"
          ]
        }
      ],
      "source": [
        "#dromidarii male\n",
        "directory_path = '/content/drive/Shareddrives/Mr Anis _Projet Data science _tique/S2/Data_augmentation/couleur/dromidarii/male'\n",
        "num_images_dromidarii_male = count_images_in_directory(directory_path)\n",
        "print(\"Le dossier\", directory_path, \"contient\", num_images_dromidarii_male , \"images.\")"
      ]
    },
    {
      "cell_type": "code",
      "execution_count": null,
      "metadata": {
        "id": "phutAba2sbFP"
      },
      "outputs": [],
      "source": [
        "#marginatum"
      ]
    },
    {
      "cell_type": "code",
      "execution_count": null,
      "metadata": {
        "colab": {
          "base_uri": "https://localhost:8080/"
        },
        "id": "v5Osmt5bqrjp",
        "outputId": "8214abfe-1cd3-4e29-bc18-155b73c65969"
      },
      "outputs": [
        {
          "name": "stdout",
          "output_type": "stream",
          "text": [
            "Le dossier /content/drive/Shareddrives/Mr Anis _Projet Data science _tique/S2/Data_augmentation/couleur/marginatum/male contient 4070 images.\n"
          ]
        }
      ],
      "source": [
        "#marginatum male\n",
        "directory_path = '/content/drive/Shareddrives/Mr Anis _Projet Data science _tique/S2/Data_augmentation/couleur/marginatum/male'\n",
        "num_images_marginatum_male = count_images_in_directory(directory_path)\n",
        "print(\"Le dossier\", directory_path, \"contient\", num_images_marginatum_male , \"images.\")"
      ]
    },
    {
      "cell_type": "code",
      "execution_count": null,
      "metadata": {
        "colab": {
          "base_uri": "https://localhost:8080/"
        },
        "id": "gq3c0gIKqrmb",
        "outputId": "d981156c-c97a-43da-91fa-4770a55b1bd4"
      },
      "outputs": [
        {
          "name": "stdout",
          "output_type": "stream",
          "text": [
            "Le dossier /content/drive/Shareddrives/Mr Anis _Projet Data science _tique/S2/Data_augmentation/couleur/marginatum/femelle contient 3850 images.\n"
          ]
        }
      ],
      "source": [
        "#marginatum femelle\n",
        "directory_path = '/content/drive/Shareddrives/Mr Anis _Projet Data science _tique/S2/Data_augmentation/couleur/marginatum/femelle'\n",
        "num_images_marginatum_femelle = count_images_in_directory(directory_path)\n",
        "print(\"Le dossier\", directory_path, \"contient\", num_images_marginatum_femelle , \"images.\")"
      ]
    },
    {
      "cell_type": "code",
      "execution_count": null,
      "metadata": {
        "id": "QS_DhgBlvQyq"
      },
      "outputs": [],
      "source": [
        "#excavatum"
      ]
    },
    {
      "cell_type": "code",
      "execution_count": null,
      "metadata": {
        "colab": {
          "base_uri": "https://localhost:8080/"
        },
        "id": "dypNcfrEu11z",
        "outputId": "d1949cdc-9c49-4bba-f7b9-43e46c03b142"
      },
      "outputs": [
        {
          "name": "stdout",
          "output_type": "stream",
          "text": [
            "Le dossier /content/drive/Shareddrives/Mr Anis _Projet Data science _tique/S2/Data_augmentation/couleur/excavatum/femelle contient 1500 images.\n"
          ]
        }
      ],
      "source": [
        "#excavatum femelle\n",
        "directory_path = '/content/drive/Shareddrives/Mr Anis _Projet Data science _tique/S2/Data_augmentation/couleur/excavatum/femelle'\n",
        "num_images_excavatum_femelle = count_images_in_directory(directory_path)\n",
        "print(\"Le dossier\", directory_path, \"contient\", num_images_excavatum_femelle , \"images.\")"
      ]
    },
    {
      "cell_type": "code",
      "execution_count": null,
      "metadata": {
        "colab": {
          "base_uri": "https://localhost:8080/"
        },
        "id": "WEqx_xzcu1x4",
        "outputId": "24508587-52b5-4d6b-d840-f3e25baa9b9d"
      },
      "outputs": [
        {
          "name": "stdout",
          "output_type": "stream",
          "text": [
            "Le dossier /content/drive/Shareddrives/Mr Anis _Projet Data science _tique/S2/Data_augmentation/couleur/excavatum/male contient 640 images.\n"
          ]
        }
      ],
      "source": [
        "#excavatum male\n",
        "directory_path = '/content/drive/Shareddrives/Mr Anis _Projet Data science _tique/S2/Data_augmentation/couleur/excavatum/male'\n",
        "num_images_excavatum_male = count_images_in_directory(directory_path)\n",
        "print(\"Le dossier\", directory_path, \"contient\", num_images_excavatum_male ,\"images.\")"
      ]
    },
    {
      "cell_type": "code",
      "execution_count": null,
      "metadata": {
        "id": "51hCAii7u1up"
      },
      "outputs": [],
      "source": []
    },
    {
      "cell_type": "code",
      "execution_count": null,
      "metadata": {
        "colab": {
          "base_uri": "https://localhost:8080/"
        },
        "id": "0I628QZwu1rk",
        "outputId": "6f017ee4-a4b1-42e1-de82-0402a2993a8a"
      },
      "outputs": [
        {
          "name": "stdout",
          "output_type": "stream",
          "text": [
            "Le dossier /content/drive/Shareddrives/Mr Anis _Projet Data science _tique/S2/Data_augmentation/couleur/scupinse/male contient 9180 images.\n"
          ]
        }
      ],
      "source": [
        "#scupense male\n",
        "directory_path = '/content/drive/Shareddrives/Mr Anis _Projet Data science _tique/S2/Data_augmentation/couleur/scupinse/male'\n",
        "num_images_scupense_male = count_images_in_directory(directory_path)\n",
        "print(\"Le dossier\", directory_path, \"contient\", num_images_scupense_male ,\"images.\")"
      ]
    },
    {
      "cell_type": "code",
      "execution_count": null,
      "metadata": {
        "colab": {
          "base_uri": "https://localhost:8080/"
        },
        "id": "y9XmL47Ku1oL",
        "outputId": "580b5bfa-52d2-4616-d8a9-f7abe11d6b0a"
      },
      "outputs": [
        {
          "name": "stdout",
          "output_type": "stream",
          "text": [
            "Le dossier /content/drive/Shareddrives/Mr Anis _Projet Data science _tique/S2/Data_augmentation/couleur/scupinse/femelle contient 17910 images.\n"
          ]
        }
      ],
      "source": [
        "#scupense femelle\n",
        "directory_path = '/content/drive/Shareddrives/Mr Anis _Projet Data science _tique/S2/Data_augmentation/couleur/scupinse/femelle'\n",
        "num_images_scupense_femelle = count_images_in_directory(directory_path)\n",
        "print(\"Le dossier\", directory_path, \"contient\", num_images_scupense_femelle ,\"images.\")"
      ]
    },
    {
      "cell_type": "code",
      "execution_count": null,
      "metadata": {
        "id": "sInZj2Zou1kt"
      },
      "outputs": [],
      "source": []
    },
    {
      "cell_type": "code",
      "execution_count": null,
      "metadata": {
        "colab": {
          "base_uri": "https://localhost:8080/"
        },
        "id": "G963dcq_ttGt",
        "outputId": "e30f6aa1-d613-4fc4-f1cb-9d35fe51d972"
      },
      "outputs": [
        {
          "name": "stdout",
          "output_type": "stream",
          "text": [
            "Le dossier /content/drive/Shareddrives/Mr Anis _Projet Data science _tique/S2/Data_augmentation/couleur/excavatum/femelle contient 1500 images.\n"
          ]
        }
      ],
      "source": [
        "#Excavatum femelle\n",
        "directory_path = '/content/drive/Shareddrives/Mr Anis _Projet Data science _tique/S2/Data_augmentation/couleur/excavatum/femelle'\n",
        "num_images_excavatum_femelle = count_images_in_directory(directory_path)\n",
        "print(\"Le dossier\", directory_path, \"contient\", num_images_excavatum_femelle ,\"images.\")"
      ]
    },
    {
      "cell_type": "code",
      "execution_count": null,
      "metadata": {
        "colab": {
          "base_uri": "https://localhost:8080/"
        },
        "id": "3BLTfUQ1ttC6",
        "outputId": "0099c59a-aedc-47a5-8b61-8de24b33c4d6"
      },
      "outputs": [
        {
          "name": "stdout",
          "output_type": "stream",
          "text": [
            "Le dossier /content/drive/Shareddrives/Mr Anis _Projet Data science _tique/S2/Data_augmentation/couleur/excavatum/male contient 3840 images.\n"
          ]
        }
      ],
      "source": [
        "#excavatum femelle\n",
        "directory_path = '/content/drive/Shareddrives/Mr Anis _Projet Data science _tique/S2/Data_augmentation/couleur/excavatum/male'\n",
        "num_images_excavatum_male = count_images_in_directory(directory_path)\n",
        "print(\"Le dossier\", directory_path, \"contient\", num_images_excavatum_male ,\"images.\")"
      ]
    },
    {
      "cell_type": "code",
      "execution_count": null,
      "metadata": {
        "id": "1E2ZQlL2ttAO"
      },
      "outputs": [],
      "source": []
    },
    {
      "cell_type": "code",
      "execution_count": null,
      "metadata": {
        "id": "jXV3kkpOJOuY"
      },
      "outputs": [],
      "source": []
    },
    {
      "cell_type": "code",
      "execution_count": null,
      "metadata": {
        "id": "siNDiN9eJOq7"
      },
      "outputs": [],
      "source": []
    },
    {
      "cell_type": "code",
      "execution_count": null,
      "metadata": {
        "id": "LHEO1V7Sts9q"
      },
      "outputs": [],
      "source": [
        "#Visualisation"
      ]
    },
    {
      "cell_type": "code",
      "execution_count": null,
      "metadata": {
        "id": "H9QG7f_d5KRy"
      },
      "outputs": [],
      "source": [
        "E_M=num_images_excavatum_male\n",
        "E_F=num_images_excavatum_femelle\n",
        "\n",
        "M_M=num_images_marginatum_male\n",
        "M_F=num_images_marginatum_femelle\n",
        "\n",
        "D_M=num_images_dromidarii_male\n",
        "D_F=num_images_dromidarii_femelle\n",
        "\n",
        "Im_M=num_images_impeltatum_male\n",
        "Im_F=num_images_impeltatum_femelle\n",
        "\n",
        "S_M=num_images_scupense_male\n",
        "S_F=num_images_scupense_femelle\n"
      ]
    },
    {
      "cell_type": "code",
      "execution_count": null,
      "metadata": {
        "id": "PzWGd8lS5KOi"
      },
      "outputs": [],
      "source": [
        "\n",
        "\n",
        "def plot_pie_chart(class_counts):\n",
        "    labels = class_counts.keys()\n",
        "    sizes = class_counts.values()\n",
        "\n",
        "    plt.figure(figsize=(8, 8))\n",
        "    plt.pie(sizes, labels=labels, autopct='%1.1f%%', startangle=140)\n",
        "    plt.axis('equal')  # Equal aspect ratio ensures that pie is drawn as a circle.\n",
        "    #plt.title('Répartition des images par classe')\n",
        "    plt.show()\n"
      ]
    },
    {
      "cell_type": "code",
      "execution_count": null,
      "metadata": {
        "colab": {
          "base_uri": "https://localhost:8080/",
          "height": 661
        },
        "id": "2nXn7JgI5KLs",
        "outputId": "a4853f09-6bbf-4230-b062-524d53e33fbc"
      },
      "outputs": [
        {
          "data": {
            "image/png": "[encoded data removed]",
            "text/plain": [
              "<Figure size 800x800 with 1 Axes>"
            ]
          },
          "metadata": {},
          "output_type": "display_data"
        }
      ],
      "source": [
        "\n",
        "class_counts = {'Marginatum_M': M_M, 'Marginatum_f': M_F, 'Excavatum_M': E_M,'Excavatum_F':E_F,'Dromidarii_M':D_M,'Dromidarii_F':D_F\n",
        "                ,'Impeltatum_M':Im_M,'Impeltatum_F':Im_F,'Impeltatum_M':Im_M,'Scupense_M':S_M,'Scupense_F':S_F}\n",
        "plot_pie_chart(class_counts)"
      ]
    },
    {
      "cell_type": "code",
      "execution_count": null,
      "metadata": {
        "id": "i29qVaA15KIj"
      },
      "outputs": [],
      "source": [
        "#Pour appliquer un réseau CNN on doit avoir un minimum de données de 30 000\n",
        "#de moyenne 3000 images par classe , puisque nous avons 10  classe\n",
        "\n",
        "#   ====> on fait recourt a des algorithmes pour equilibrer notre base de données"
      ]
    },
    {
      "cell_type": "code",
      "execution_count": null,
      "metadata": {
        "id": "ifopml3E5KFu"
      },
      "outputs": [],
      "source": [
        "# je ne peux pas faire une augmentation par le sur -echantionnage car: l'algorithme va générer  automatiquement les images , or qu'on doit conserver la meme morphologies des tiques"
      ]
    },
    {
      "cell_type": "code",
      "execution_count": null,
      "metadata": {
        "id": "VKWAnmi-AkeF"
      },
      "outputs": [],
      "source": []
    },
    {
      "cell_type": "code",
      "execution_count": null,
      "metadata": {
        "colab": {
          "base_uri": "https://localhost:8080/"
        },
        "id": "OY9hNgTvAkTD",
        "outputId": "dfe724d3-34b6-466a-a29f-8af483c20808"
      },
      "outputs": [
        {
          "name": "stdout",
          "output_type": "stream",
          "text": [
            "succées\n"
          ]
        }
      ],
      "source": [
        "source_directory1 ='/content/drive/Shareddrives/Mr Anis _Projet Data science _tique/S2/A_Base_finale/excavatum/femelle'\n",
        "destination_directory1 = '/content/drive/Shareddrives/Mr Anis _Projet Data science _tique/S2/Data_augmentation/couleur/excavatum/femelle'\n",
        "Data_augmentation(source_directory1, destination_directory1, 300)\n",
        "print(\"succées\")"
      ]
    },
    {
      "cell_type": "code",
      "execution_count": null,
      "metadata": {
        "colab": {
          "base_uri": "https://localhost:8080/"
        },
        "id": "XaHA8AX25KCy",
        "outputId": "a9e67442-361e-4a35-827e-281ce39e3fc6"
      },
      "outputs": [
        {
          "name": "stdout",
          "output_type": "stream",
          "text": [
            "Le dossier /content/drive/Shareddrives/Mr Anis _Projet Data science _tique/S2/Data_augmentation/couleur/excavatum/femelle contient 4500 images.\n"
          ]
        }
      ],
      "source": [
        "#excavatum femelle\n",
        "directory_path = '/content/drive/Shareddrives/Mr Anis _Projet Data science _tique/S2/Data_augmentation/couleur/excavatum/femelle'\n",
        "num_images_excavatum_femelle = count_images_in_directory(directory_path)\n",
        "print(\"Le dossier\", directory_path, \"contient\", num_images_excavatum_femelle , \"images.\")"
      ]
    },
    {
      "cell_type": "code",
      "execution_count": null,
      "metadata": {
        "colab": {
          "base_uri": "https://localhost:8080/"
        },
        "id": "HOfPV8dF5J_z",
        "outputId": "9c5e0834-0abd-49ac-8548-d4408598874e"
      },
      "outputs": [
        {
          "name": "stdout",
          "output_type": "stream",
          "text": [
            "succées\n"
          ]
        }
      ],
      "source": [
        "source_directory1 ='/content/drive/Shareddrives/Mr Anis _Projet Data science _tique/S2/A_Base_finale/impeltatum/femelle'\n",
        "destination_directory1 = '/content/drive/Shareddrives/Mr Anis _Projet Data science _tique/S2/Data_augmentation/couleur/impeltatum/femelle'\n",
        "Data_augmentation(source_directory1, destination_directory1, 300)\n",
        "print(\"succées\")"
      ]
    },
    {
      "cell_type": "code",
      "execution_count": null,
      "metadata": {
        "colab": {
          "base_uri": "https://localhost:8080/"
        },
        "id": "PGfneK_k5J82",
        "outputId": "90614d4d-02d3-4ba5-9259-3d7112281777"
      },
      "outputs": [
        {
          "name": "stdout",
          "output_type": "stream",
          "text": [
            "Le dossier /content/drive/Shareddrives/Mr Anis _Projet Data science _tique/S2/Data_augmentation/couleur/impeltatum/femelle contient 4415 images.\n"
          ]
        }
      ],
      "source": [
        "directory_path = '/content/drive/Shareddrives/Mr Anis _Projet Data science _tique/S2/Data_augmentation/couleur/impeltatum/femelle'\n",
        "num_images_impeltatum_femelle = count_images_in_directory(directory_path)\n",
        "print(\"Le dossier\", directory_path, \"contient\", num_images_impeltatum_femelle , \"images.\")"
      ]
    },
    {
      "cell_type": "code",
      "execution_count": null,
      "metadata": {
        "id": "xKzX-KSfMIRb"
      },
      "outputs": [],
      "source": [
        "E_M=num_images_excavatum_male\n",
        "E_F=num_images_excavatum_femelle\n",
        "\n",
        "M_M=num_images_marginatum_male\n",
        "M_F=num_images_marginatum_femelle\n",
        "\n",
        "D_M=num_images_dromidarii_male\n",
        "D_F=num_images_dromidarii_femelle\n",
        "\n",
        "Im_M=num_images_impeltatum_male\n",
        "Im_F=num_images_impeltatum_femelle\n",
        "\n",
        "S_M=num_images_scupense_male\n",
        "S_F=num_images_scupense_femelle"
      ]
    },
    {
      "cell_type": "code",
      "execution_count": null,
      "metadata": {
        "colab": {
          "base_uri": "https://localhost:8080/",
          "height": 660
        },
        "id": "SBZFZkhcMINz",
        "outputId": "9cdf38f5-60ab-4e38-bf8f-cb2b5c95f7e6"
      },
      "outputs": [
        {
          "data": {
            "image/png": "[encoded data removed]",
            "text/plain": [
              "<Figure size 800x800 with 1 Axes>"
            ]
          },
          "metadata": {},
          "output_type": "display_data"
        }
      ],
      "source": [
        "class_counts = {'Marginatum_M': M_M, 'Marginatum_f': M_F, 'Excavatum_M': E_M,'Excavatum_F':E_F,'Dromidarii_M':D_M,'Dromidarii_F':D_F\n",
        "                ,'Impeltatum_M':Im_M,'Impeltatum_F':Im_F,'Impeltatum_M':Im_M,'Scupense_M':S_M,'Scupense_F':S_F}\n",
        "plot_pie_chart(class_counts)"
      ]
    },
    {
      "cell_type": "code",
      "execution_count": null,
      "metadata": {
        "id": "jOnxnw7HMIIX"
      },
      "outputs": [],
      "source": []
    },
    {
      "cell_type": "code",
      "execution_count": null,
      "metadata": {
        "id": "4lcXRuj_5J5v"
      },
      "outputs": [],
      "source": [
        "#Equilibre de la base de données"
      ]
    },
    {
      "cell_type": "code",
      "execution_count": null,
      "metadata": {
        "id": "YMjhaSZfhg-r"
      },
      "outputs": [],
      "source": []
    },
    {
      "cell_type": "code",
      "execution_count": null,
      "metadata": {
        "id": "T9ZnmkO95J2x"
      },
      "outputs": [],
      "source": [
        "import os\n",
        "import random\n",
        "\n",
        "# Chemin vers votre dossier principal\n",
        "dossier_principal = '/content/drive/Shareddrives/Mr Anis _Projet Data science _tique/S2/Data_augmentation/couleur'\n",
        "\n",
        "# Nombre maximum d'images à conserver dans chaque sous-dossier\n",
        "limite_images = 3000\n",
        "\n",
        "# Parcourir les dossiers d'espèces\n",
        "especes = ['marginatum', 'excavatum', 'dromidarii', 'impeltatum', 'scupense']\n",
        "\n",
        "for espece in especes:\n",
        "    chemin_espece = os.path.join(dossier_principal, espece)\n",
        "    if os.path.isdir(chemin_espece):\n",
        "        # Parcourir les dossiers male et femelle\n",
        "        genres = ['male', 'femelle']\n",
        "        for genre in genres:\n",
        "            chemin_genre = os.path.join(chemin_espece, genre)\n",
        "            if os.path.isdir(chemin_genre):\n",
        "                chemin_images = [os.path.join(chemin_genre, fichier) for fichier in os.listdir(chemin_genre) if fichier.endswith(\".jpg\") or fichier.endswith(\".png\")]\n",
        "                # Si le nombre d'images dans le dossier est supérieur à 3000, sélectionner aléatoirement 3000 images à conserver\n",
        "                if len(chemin_images) > limite_images:\n",
        "                    images_a_conserver = random.sample(chemin_images, limite_images)\n",
        "                    # Supprimer les images excédentaires\n",
        "                    images_a_supprimer = set(chemin_images) - set(images_a_conserver)\n",
        "                    for image in images_a_supprimer:\n",
        "                        os.remove(image)\n"
      ]
    },
    {
      "cell_type": "code",
      "execution_count": null,
      "metadata": {
        "colab": {
          "base_uri": "https://localhost:8080/"
        },
        "id": "Fg3-s_Ud5Jzy",
        "outputId": "d1a2b93a-78a2-4cb6-e445-2e6e56c2e636"
      },
      "outputs": [
        {
          "name": "stdout",
          "output_type": "stream",
          "text": [
            "Le dossier /content/drive/Shareddrives/Mr Anis _Projet Data science _tique/S2/Data_augmentation/couleur/excavatum/femelle contient 3000 images.\n"
          ]
        }
      ],
      "source": [
        "#excavatum femelle\n",
        "directory_path = '/content/drive/Shareddrives/Mr Anis _Projet Data science _tique/S2/Data_augmentation/couleur/excavatum/femelle'\n",
        "num_images_excavatum_femelle = count_images_in_directory(directory_path)\n",
        "print(\"Le dossier\", directory_path, \"contient\", num_images_excavatum_femelle , \"images.\")"
      ]
    },
    {
      "cell_type": "code",
      "execution_count": null,
      "metadata": {
        "colab": {
          "base_uri": "https://localhost:8080/"
        },
        "id": "ZpDt40Og0Ohv",
        "outputId": "36697d57-feaf-4c1b-f9ab-7e52f73623f1"
      },
      "outputs": [
        {
          "name": "stdout",
          "output_type": "stream",
          "text": [
            "Le dossier /content/drive/Shareddrives/Mr Anis _Projet Data science _tique/S2/Data_augmentation/couleur/excavatum/male contient 3000 images.\n"
          ]
        }
      ],
      "source": [
        "#excavatum male\n",
        "directory_path = '/content/drive/Shareddrives/Mr Anis _Projet Data science _tique/S2/Data_augmentation/couleur/excavatum/male'\n",
        "num_images_excavatum_male = count_images_in_directory(directory_path)\n",
        "print(\"Le dossier\", directory_path, \"contient\", num_images_excavatum_male , \"images.\")"
      ]
    },
    {
      "cell_type": "code",
      "execution_count": null,
      "metadata": {
        "colab": {
          "base_uri": "https://localhost:8080/"
        },
        "id": "IHJgUFUJ0OeJ",
        "outputId": "36d5430b-fee0-46f4-f342-dd22e0643e51"
      },
      "outputs": [
        {
          "name": "stdout",
          "output_type": "stream",
          "text": [
            "Le dossier /content/drive/Shareddrives/Mr Anis _Projet Data science _tique/S2/Data_augmentation/couleur/impeltatum/femelle contient 3000 images.\n"
          ]
        }
      ],
      "source": [
        "#impeltatum femelle\n",
        "directory_path = '/content/drive/Shareddrives/Mr Anis _Projet Data science _tique/S2/Data_augmentation/couleur/impeltatum/femelle'\n",
        "num_images_impeltatum_femelle = count_images_in_directory(directory_path)\n",
        "print(\"Le dossier\", directory_path, \"contient\", num_images_impeltatum_femelle , \"images.\")"
      ]
    },
    {
      "cell_type": "code",
      "execution_count": null,
      "metadata": {
        "colab": {
          "base_uri": "https://localhost:8080/"
        },
        "id": "ENa7N6AA0ObR",
        "outputId": "a3b83411-4963-43ae-c4b4-eb2deb311946"
      },
      "outputs": [
        {
          "name": "stdout",
          "output_type": "stream",
          "text": [
            "Le dossier /content/drive/Shareddrives/Mr Anis _Projet Data science _tique/S2/Data_augmentation/couleur/impeltatum/male contient 3000 images.\n"
          ]
        }
      ],
      "source": [
        "#impeltatum male\n",
        "directory_path = '/content/drive/Shareddrives/Mr Anis _Projet Data science _tique/S2/Data_augmentation/couleur/impeltatum/male'\n",
        "num_images_impeltatum_male = count_images_in_directory(directory_path)\n",
        "print(\"Le dossier\", directory_path, \"contient\", num_images_impeltatum_male , \"images.\")"
      ]
    },
    {
      "cell_type": "code",
      "execution_count": null,
      "metadata": {
        "colab": {
          "base_uri": "https://localhost:8080/"
        },
        "id": "KpcR1_2H0OYD",
        "outputId": "62d932cf-41df-4b75-cdec-86d1102c0dc6"
      },
      "outputs": [
        {
          "name": "stdout",
          "output_type": "stream",
          "text": [
            "Le dossier /content/drive/Shareddrives/Mr Anis _Projet Data science _tique/S2/Data_augmentation/couleur/marginatum/male contient 3000 images.\n"
          ]
        }
      ],
      "source": [
        "#marginatum male\n",
        "directory_path = '/content/drive/Shareddrives/Mr Anis _Projet Data science _tique/S2/Data_augmentation/couleur/marginatum/male'\n",
        "num_images_marginatum_male = count_images_in_directory(directory_path)\n",
        "print(\"Le dossier\", directory_path, \"contient\", num_images_marginatum_male , \"images.\")"
      ]
    },
    {
      "cell_type": "code",
      "execution_count": null,
      "metadata": {
        "colab": {
          "base_uri": "https://localhost:8080/"
        },
        "id": "FLctqy1E0ORo",
        "outputId": "871b797e-e9bf-4e4d-f12b-869326fda1ff"
      },
      "outputs": [
        {
          "name": "stdout",
          "output_type": "stream",
          "text": [
            "Le dossier /content/drive/Shareddrives/Mr Anis _Projet Data science _tique/S2/Data_augmentation/couleur/marginatum/femelle contient 3000 images.\n"
          ]
        }
      ],
      "source": [
        "#marginatum femelle\n",
        "directory_path = '/content/drive/Shareddrives/Mr Anis _Projet Data science _tique/S2/Data_augmentation/couleur/marginatum/femelle'\n",
        "num_images_marginatum_femelle= count_images_in_directory(directory_path)\n",
        "print(\"Le dossier\", directory_path, \"contient\", num_images_marginatum_femelle , \"images.\")"
      ]
    },
    {
      "cell_type": "code",
      "execution_count": null,
      "metadata": {
        "colab": {
          "base_uri": "https://localhost:8080/"
        },
        "id": "goxHULx70ONs",
        "outputId": "d10e5e4c-c4af-489e-aa74-671551ef85ba"
      },
      "outputs": [
        {
          "name": "stdout",
          "output_type": "stream",
          "text": [
            "Le dossier /content/drive/Shareddrives/Mr Anis _Projet Data science _tique/S2/Data_augmentation/couleur/excavatum/femelle contient 3000 images.\n"
          ]
        }
      ],
      "source": [
        "#excavatum femelle\n",
        "directory_path = '/content/drive/Shareddrives/Mr Anis _Projet Data science _tique/S2/Data_augmentation/couleur/excavatum/femelle'\n",
        "num_images_excavatum_femelle= count_images_in_directory(directory_path)\n",
        "print(\"Le dossier\", directory_path, \"contient\", num_images_excavatum_femelle , \"images.\")"
      ]
    },
    {
      "cell_type": "code",
      "execution_count": null,
      "metadata": {
        "colab": {
          "base_uri": "https://localhost:8080/"
        },
        "id": "CNhvdTB918Ix",
        "outputId": "14226a33-36d8-4eb0-b6df-7cce12316cab"
      },
      "outputs": [
        {
          "name": "stdout",
          "output_type": "stream",
          "text": [
            "Le dossier /content/drive/Shareddrives/Mr Anis _Projet Data science _tique/S2/Data_augmentation/couleur/excavatum/male contient 3000 images.\n"
          ]
        }
      ],
      "source": [
        "#excavatum male\n",
        "directory_path = '/content/drive/Shareddrives/Mr Anis _Projet Data science _tique/S2/Data_augmentation/couleur/excavatum/male'\n",
        "num_images_excavatum_male= count_images_in_directory(directory_path)\n",
        "print(\"Le dossier\", directory_path, \"contient\", num_images_excavatum_male , \"images.\")"
      ]
    },
    {
      "cell_type": "code",
      "execution_count": null,
      "metadata": {
        "colab": {
          "base_uri": "https://localhost:8080/"
        },
        "id": "o54IYdSJ2DgD",
        "outputId": "d4fd6f9b-3623-4045-fdee-0485542062d8"
      },
      "outputs": [
        {
          "name": "stdout",
          "output_type": "stream",
          "text": [
            "Le dossier /content/drive/Shareddrives/Mr Anis _Projet Data science _tique/S2/Data_augmentation/couleur/dromidarii/male contient 3000 images.\n"
          ]
        }
      ],
      "source": [
        "#dromidarii male\n",
        "directory_path = '/content/drive/Shareddrives/Mr Anis _Projet Data science _tique/S2/Data_augmentation/couleur/dromidarii/male'\n",
        "num_images_dromidarii_male= count_images_in_directory(directory_path)\n",
        "print(\"Le dossier\", directory_path, \"contient\", num_images_dromidarii_male , \"images.\")"
      ]
    },
    {
      "cell_type": "code",
      "execution_count": null,
      "metadata": {
        "colab": {
          "base_uri": "https://localhost:8080/"
        },
        "id": "w3yBtwvq2Dbb",
        "outputId": "a4ef3341-ccfd-4a7e-d010-e77b1b876568"
      },
      "outputs": [
        {
          "name": "stdout",
          "output_type": "stream",
          "text": [
            "Le dossier /content/drive/Shareddrives/Mr Anis _Projet Data science _tique/S2/Data_augmentation/couleur/dromidarii/femelle contient 3000 images.\n"
          ]
        }
      ],
      "source": [
        "#dromidarii femelle\n",
        "directory_path = '/content/drive/Shareddrives/Mr Anis _Projet Data science _tique/S2/Data_augmentation/couleur/dromidarii/femelle'\n",
        "num_images_dromidarii_femelle= count_images_in_directory(directory_path)\n",
        "print(\"Le dossier\", directory_path, \"contient\", num_images_dromidarii_femelle , \"images.\")"
      ]
    },
    {
      "cell_type": "code",
      "execution_count": null,
      "metadata": {
        "colab": {
          "base_uri": "https://localhost:8080/"
        },
        "id": "lc4WfjFQ2DX_",
        "outputId": "01a54250-9753-44d4-fe9c-50be64aad5e5"
      },
      "outputs": [
        {
          "name": "stdout",
          "output_type": "stream",
          "text": [
            "Le dossier /content/drive/Shareddrives/Mr Anis _Projet Data science _tique/S2/Data_augmentation/couleur/scupinse/femelle contient 3000 images.\n"
          ]
        }
      ],
      "source": [
        "#scupense femelle\n",
        "directory_path = '/content/drive/Shareddrives/Mr Anis _Projet Data science _tique/S2/Data_augmentation/couleur/scupinse/femelle'\n",
        "num_images_scupinse_femelle= count_images_in_directory(directory_path)\n",
        "print(\"Le dossier\", directory_path, \"contient\", num_images_scupinse_femelle , \"images.\")"
      ]
    },
    {
      "cell_type": "code",
      "execution_count": null,
      "metadata": {
        "id": "cvkxoeyX37Ki"
      },
      "outputs": [],
      "source": []
    },
    {
      "cell_type": "code",
      "execution_count": null,
      "metadata": {
        "id": "XuQocSxa37RT"
      },
      "outputs": [],
      "source": [
        "import os\n",
        "import random\n",
        "\n",
        "# Chemin vers votre dossier principal\n",
        "dossier_principal = '/content/drive/Shareddrives/Mr Anis _Projet Data science _tique/S2/Data_augmentation/couleur'\n",
        "\n",
        "# Nombre maximum d'images à conserver dans chaque sous-dossier\n",
        "limite_images = 3000\n",
        "\n",
        "# Parcourir les dossiers d'espèces\n",
        "especes = ['scupinse']\n",
        "\n",
        "for espece in especes:\n",
        "    chemin_espece = os.path.join(dossier_principal, espece)\n",
        "    if os.path.isdir(chemin_espece):\n",
        "        # Parcourir les dossiers male et femelle\n",
        "        genres = ['male', 'femelle']\n",
        "        for genre in genres:\n",
        "            chemin_genre = os.path.join(chemin_espece, genre)\n",
        "            if os.path.isdir(chemin_genre):\n",
        "                chemin_images = [os.path.join(chemin_genre, fichier) for fichier in os.listdir(chemin_genre) if fichier.endswith(\".jpg\") or fichier.endswith(\".png\")]\n",
        "                # Si le nombre d'images dans le dossier est supérieur à 3000, sélectionner aléatoirement 3000 images à conserver\n",
        "                if len(chemin_images) > limite_images:\n",
        "                    images_a_conserver = random.sample(chemin_images, limite_images)\n",
        "                    # Supprimer les images excédentaires\n",
        "                    images_a_supprimer = set(chemin_images) - set(images_a_conserver)\n",
        "                    for image in images_a_supprimer:\n",
        "                        os.remove(image)"
      ]
    },
    {
      "cell_type": "code",
      "execution_count": null,
      "metadata": {
        "colab": {
          "base_uri": "https://localhost:8080/"
        },
        "id": "PhzXl88F37Uo",
        "outputId": "5f6a7196-5d77-433c-e3bb-a93048c3338a"
      },
      "outputs": [
        {
          "name": "stdout",
          "output_type": "stream",
          "text": [
            "Le dossier /content/drive/Shareddrives/Mr Anis _Projet Data science _tique/S2/Data_augmentation/couleur/scupinse/femelle contient 3000 images.\n"
          ]
        }
      ],
      "source": [
        "#scupense femelle\n",
        "directory_path = '/content/drive/Shareddrives/Mr Anis _Projet Data science _tique/S2/Data_augmentation/couleur/scupinse/femelle'\n",
        "num_images_scupinse_femelle= count_images_in_directory(directory_path)\n",
        "print(\"Le dossier\", directory_path, \"contient\", num_images_scupinse_femelle , \"images.\")"
      ]
    },
    {
      "cell_type": "code",
      "execution_count": null,
      "metadata": {
        "colab": {
          "base_uri": "https://localhost:8080/"
        },
        "id": "0BHjox4T37XV",
        "outputId": "0e35e91d-1e60-42d4-feb4-543395ad9164"
      },
      "outputs": [
        {
          "name": "stdout",
          "output_type": "stream",
          "text": [
            "Le dossier /content/drive/Shareddrives/Mr Anis _Projet Data science _tique/S2/Data_augmentation/couleur/scupinse/male contient 3000 images.\n"
          ]
        }
      ],
      "source": [
        "#scupense male\n",
        "directory_path = '/content/drive/Shareddrives/Mr Anis _Projet Data science _tique/S2/Data_augmentation/couleur/scupinse/male'\n",
        "num_images_scupinse_male= count_images_in_directory(directory_path)\n",
        "print(\"Le dossier\", directory_path, \"contient\", num_images_scupinse_male , \"images.\")"
      ]
    },
    {
      "cell_type": "code",
      "execution_count": null,
      "metadata": {
        "id": "4U8qJcxy37aZ"
      },
      "outputs": [],
      "source": [
        "#on remarque que la classe imp femelle contient 0 images  ===> augmentation"
      ]
    },
    {
      "cell_type": "code",
      "execution_count": null,
      "metadata": {
        "colab": {
          "base_uri": "https://localhost:8080/"
        },
        "id": "QrVT0D9a8Old",
        "outputId": "eac8dc14-3ed1-4c82-d7e6-6c77875a96f9"
      },
      "outputs": [
        {
          "name": "stdout",
          "output_type": "stream",
          "text": [
            "succées\n"
          ]
        }
      ],
      "source": [
        "source_directory1 ='/content/drive/Shareddrives/Mr Anis _Projet Data science _tique/S2/A_Base_finale/impeltatum/femelle'\n",
        "destination_directory1 = '/content/drive/Shareddrives/Mr Anis _Projet Data science _tique/S2/Data_augmentation/couleur/impeltatum/femelle'\n",
        "Data_augmentation(source_directory1, destination_directory1, 300)\n",
        "print(\"succées\")"
      ]
    },
    {
      "cell_type": "code",
      "execution_count": null,
      "metadata": {
        "colab": {
          "base_uri": "https://localhost:8080/"
        },
        "id": "nQhKPgjr7Q0g",
        "outputId": "8f4e8b92-3aaa-4cbe-b526-615f952dd436"
      },
      "outputs": [
        {
          "name": "stdout",
          "output_type": "stream",
          "text": [
            "Le dossier /content/drive/Shareddrives/Mr Anis _Projet Data science _tique/S2/Data_augmentation/couleur/impeltatum/femelle contient 3000 images.\n"
          ]
        }
      ],
      "source": [
        "#impeltatum femelle\n",
        "directory_path = '/content/drive/Shareddrives/Mr Anis _Projet Data science _tique/S2/Data_augmentation/couleur/impeltatum/femelle'\n",
        "num_images_impeltatum_femelle = count_images_in_directory(directory_path)\n",
        "print(\"Le dossier\", directory_path, \"contient\", num_images_impeltatum_femelle , \"images.\")"
      ]
    },
    {
      "cell_type": "code",
      "execution_count": null,
      "metadata": {
        "id": "kcfGbVrY7Qfi"
      },
      "outputs": [],
      "source": []
    },
    {
      "cell_type": "code",
      "execution_count": null,
      "metadata": {
        "id": "YKbFwi9B37dd"
      },
      "outputs": [],
      "source": [
        "E_M=num_images_excavatum_male\n",
        "E_F=num_images_excavatum_femelle\n",
        "\n",
        "M_M=num_images_marginatum_male\n",
        "M_F=num_images_marginatum_femelle\n",
        "\n",
        "D_M=num_images_dromidarii_male\n",
        "D_F=num_images_dromidarii_femelle\n",
        "\n",
        "Im_M=num_images_impeltatum_male\n",
        "Im_F=num_images_impeltatum_femelle\n",
        "\n",
        "S_M=num_images_scupinse_male\n",
        "S_F=num_images_scupinse_femelle"
      ]
    },
    {
      "cell_type": "code",
      "execution_count": null,
      "metadata": {
        "colab": {
          "base_uri": "https://localhost:8080/",
          "height": 669
        },
        "id": "kXWIzIbZ7Qqx",
        "outputId": "0b6d900d-7172-4364-f4f4-3d00a519b042"
      },
      "outputs": [
        {
          "data": {
            "image/png": "[encoded data removed]",
            "text/plain": [
              "<Figure size 800x800 with 1 Axes>"
            ]
          },
          "metadata": {},
          "output_type": "display_data"
        }
      ],
      "source": [
        "class_counts = {'Marginatum_M': M_M, 'Marginatum_f': M_F, 'Excavatum_M': E_M,'Excavatum_F':E_F,'Dromidarii_M':D_M,'Dromidarii_F':D_F\n",
        "                ,'Impeltatum_M':Im_M,'Impeltatum_F':Im_F,'Impeltatum_M':Im_M,'Scupense_M':S_M,'Scupense_F':S_F}\n",
        "plot_pie_chart(class_counts)"
      ]
    },
    {
      "cell_type": "code",
      "execution_count": null,
      "metadata": {
        "id": "zw3mthJRdEok"
      },
      "outputs": [],
      "source": []
    },
    {
      "cell_type": "code",
      "execution_count": null,
      "metadata": {
        "colab": {
          "base_uri": "https://localhost:8080/"
        },
        "id": "GaES31vZdElB",
        "outputId": "6468c2a0-9406-4399-cc93-864cae5517e4"
      },
      "outputs": [
        {
          "name": "stdout",
          "output_type": "stream",
          "text": [
            "Données divisées en ensembles d'entraînement, de validation et de test avec succès.\n"
          ]
        }
      ],
      "source": [
        "import os\n",
        "import shutil\n",
        "import random\n",
        "\n",
        "# Chemin vers le répertoire contenant toutes les images\n",
        "data_dir = '/content/drive/Shareddrives/Mr Anis _Projet Data science _tique/S2/Data_augmentation/couleur'\n",
        "\n",
        "# Création des répertoires pour les ensembles d'entraînement, de validation et de test\n",
        "train_dir = 'train_data'\n",
        "validation_dir = 'validation_data'\n",
        "test_dir = 'test_data'\n",
        "\n",
        "os.makedirs(train_dir, exist_ok=True)\n",
        "os.makedirs(validation_dir, exist_ok=True)\n",
        "os.makedirs(test_dir, exist_ok=True)\n",
        "\n",
        "# Pourcentage des données à utiliser pour l'entraînement, la validation et le test\n",
        "train_percent = 0.7\n",
        "validation_percent = 0.15\n",
        "test_percent = 0.15\n",
        "\n",
        "# Parcours de chaque classe de données dans le répertoire principal\n",
        "for species in os.listdir(data_dir):\n",
        "    species_dir = os.path.join(data_dir, species)\n",
        "    if os.path.isdir(species_dir):\n",
        "        for gender in os.listdir(species_dir):\n",
        "            gender_dir = os.path.join(species_dir, gender)\n",
        "            if os.path.isdir(gender_dir):\n",
        "                # Liste de tous les fichiers dans le répertoire du genre\n",
        "                files = os.listdir(gender_dir)\n",
        "                # Mélange aléatoire des fichiers\n",
        "                random.shuffle(files)\n",
        "\n",
        "                # Calcul des indices de découpe\n",
        "                num_files = len(files)\n",
        "                num_train = int(train_percent * num_files)\n",
        "                num_validation = int(validation_percent * num_files)\n",
        "\n",
        "                # Répartition des fichiers dans les ensembles d'entraînement, de validation et de test\n",
        "                train_files = files[:num_train]\n",
        "                validation_files = files[num_train:num_train + num_validation]\n",
        "                test_files = files[num_train + num_validation:]\n",
        "\n",
        "                # Copie des fichiers dans les répertoires correspondants\n",
        "                for filename in train_files:\n",
        "                    src = os.path.join(gender_dir, filename)\n",
        "                    dst = os.path.join(train_dir, species, gender)\n",
        "                    os.makedirs(dst, exist_ok=True)\n",
        "                    shutil.copy(src, dst)\n",
        "\n",
        "                for filename in validation_files:\n",
        "                    src = os.path.join(gender_dir, filename)\n",
        "                    dst = os.path.join(validation_dir, species, gender)\n",
        "                    os.makedirs(dst, exist_ok=True)\n",
        "                    shutil.copy(src, dst)\n",
        "\n",
        "                for filename in test_files:\n",
        "                    src = os.path.join(gender_dir, filename)\n",
        "                    dst = os.path.join(test_dir, species, gender)\n",
        "                    os.makedirs(dst, exist_ok=True)\n",
        "                    shutil.copy(src, dst)\n",
        "\n",
        "print(\"Données divisées en ensembles d'entraînement, de validation et de test avec succès.\")\n"
      ]
    },
    {
      "cell_type": "code",
      "execution_count": null,
      "metadata": {
        "id": "gO3owMttdEiu"
      },
      "outputs": [],
      "source": []
    },
    {
      "cell_type": "code",
      "execution_count": null,
      "metadata": {
        "colab": {
          "background_save": true,
          "base_uri": "https://localhost:8080/"
        },
        "id": "3_5Kucd3dEgd",
        "outputId": "7744a64d-2800-4ddd-8519-fc2b4f360d4a"
      },
      "outputs": [
        {
          "name": "stdout",
          "output_type": "stream",
          "text": [
            "Found 21000 images belonging to 5 classes.\n",
            "Found 4500 images belonging to 5 classes.\n",
            "Found 4500 images belonging to 5 classes.\n",
            "Epoch 1/30\n",
            "100/100 - 278s - loss: -4.3392e+11 - accuracy: 0.2155 - val_loss: -5.7008e+12 - val_accuracy: 0.2070 - 278s/epoch - 3s/step\n",
            "Epoch 2/30\n",
            "100/100 - 254s - loss: -2.8546e+15 - accuracy: 0.1940 - val_loss: -1.8194e+16 - val_accuracy: 0.2170 - 254s/epoch - 3s/step\n",
            "Epoch 3/30\n",
            "100/100 - 271s - loss: -3.7005e+17 - accuracy: 0.1925 - val_loss: -1.5638e+18 - val_accuracy: 0.1950 - 271s/epoch - 3s/step\n",
            "Epoch 4/30\n",
            "100/100 - 274s - loss: -9.0790e+18 - accuracy: 0.2005 - val_loss: -2.7545e+19 - val_accuracy: 0.2130 - 274s/epoch - 3s/step\n",
            "Epoch 5/30\n",
            "100/100 - 263s - loss: -9.9886e+19 - accuracy: 0.2285 - val_loss: -2.3306e+20 - val_accuracy: 0.2120 - 263s/epoch - 3s/step\n",
            "Epoch 6/30\n",
            "100/100 - 274s - loss: -6.7772e+20 - accuracy: 0.1950 - val_loss: -1.4229e+21 - val_accuracy: 0.1890 - 274s/epoch - 3s/step\n",
            "Epoch 7/30\n",
            "100/100 - 249s - loss: nan - accuracy: 0.2135 - val_loss: nan - val_accuracy: 0.1940 - 249s/epoch - 2s/step\n",
            "Epoch 8/30\n",
            "100/100 - 276s - loss: nan - accuracy: 0.1850 - val_loss: nan - val_accuracy: 0.2170 - 276s/epoch - 3s/step\n",
            "Epoch 9/30\n",
            "100/100 - 250s - loss: nan - accuracy: 0.1910 - val_loss: nan - val_accuracy: 0.2120 - 250s/epoch - 2s/step\n",
            "Epoch 10/30\n",
            "100/100 - 278s - loss: nan - accuracy: 0.1905 - val_loss: nan - val_accuracy: 0.2190 - 278s/epoch - 3s/step\n",
            "Epoch 11/30\n",
            "100/100 - 274s - loss: nan - accuracy: 0.2080 - val_loss: nan - val_accuracy: 0.1980 - 274s/epoch - 3s/step\n",
            "Epoch 12/30\n",
            "100/100 - 280s - loss: nan - accuracy: 0.1960 - val_loss: nan - val_accuracy: 0.2040 - 280s/epoch - 3s/step\n",
            "Epoch 13/30\n",
            "100/100 - 275s - loss: nan - accuracy: 0.2015 - val_loss: nan - val_accuracy: 0.2110 - 275s/epoch - 3s/step\n",
            "Epoch 14/30\n",
            "100/100 - 273s - loss: nan - accuracy: 0.1900 - val_loss: nan - val_accuracy: 0.2170 - 273s/epoch - 3s/step\n",
            "Epoch 15/30\n",
            "100/100 - 269s - loss: nan - accuracy: 0.1910 - val_loss: nan - val_accuracy: 0.2030 - 269s/epoch - 3s/step\n",
            "Epoch 16/30\n",
            "100/100 - 278s - loss: nan - accuracy: 0.1900 - val_loss: nan - val_accuracy: 0.2100 - 278s/epoch - 3s/step\n",
            "Epoch 17/30\n",
            "100/100 - 271s - loss: nan - accuracy: 0.2080 - val_loss: nan - val_accuracy: 0.1910 - 271s/epoch - 3s/step\n",
            "Epoch 18/30\n",
            "100/100 - 283s - loss: nan - accuracy: 0.1965 - val_loss: nan - val_accuracy: 0.1880 - 283s/epoch - 3s/step\n",
            "Epoch 19/30\n",
            "100/100 - 270s - loss: nan - accuracy: 0.1950 - val_loss: nan - val_accuracy: 0.2150 - 270s/epoch - 3s/step\n",
            "Epoch 20/30\n",
            "100/100 - 283s - loss: nan - accuracy: 0.1945 - val_loss: nan - val_accuracy: 0.2120 - 283s/epoch - 3s/step\n",
            "Epoch 21/30\n",
            "100/100 - 273s - loss: nan - accuracy: 0.2150 - val_loss: nan - val_accuracy: 0.2070 - 273s/epoch - 3s/step\n",
            "Epoch 22/30\n",
            "100/100 - 269s - loss: nan - accuracy: 0.2025 - val_loss: nan - val_accuracy: 0.2030 - 269s/epoch - 3s/step\n",
            "Epoch 23/30\n",
            "100/100 - 245s - loss: nan - accuracy: 0.2050 - val_loss: nan - val_accuracy: 0.1900 - 245s/epoch - 2s/step\n",
            "Epoch 24/30\n",
            "100/100 - 267s - loss: nan - accuracy: 0.1905 - val_loss: nan - val_accuracy: 0.2050 - 267s/epoch - 3s/step\n",
            "Epoch 25/30\n",
            "100/100 - 267s - loss: nan - accuracy: 0.2020 - val_loss: nan - val_accuracy: 0.1870 - 267s/epoch - 3s/step\n",
            "Epoch 26/30\n",
            "100/100 - 273s - loss: nan - accuracy: 0.1900 - val_loss: nan - val_accuracy: 0.2120 - 273s/epoch - 3s/step\n",
            "Epoch 27/30\n",
            "100/100 - 268s - loss: nan - accuracy: 0.1910 - val_loss: nan - val_accuracy: 0.2130 - 268s/epoch - 3s/step\n",
            "Epoch 28/30\n",
            "100/100 - 268s - loss: nan - accuracy: 0.1940 - val_loss: nan - val_accuracy: 0.2060 - 268s/epoch - 3s/step\n",
            "Epoch 29/30\n",
            "100/100 - 246s - loss: nan - accuracy: 0.1850 - val_loss: nan - val_accuracy: 0.2080 - 246s/epoch - 2s/step\n",
            "Epoch 30/30\n",
            "100/100 - 271s - loss: nan - accuracy: 0.2005 - val_loss: nan - val_accuracy: 0.1960 - 271s/epoch - 3s/step\n",
            "225/225 - 277s - loss: nan - accuracy: 0.2000 - 277s/epoch - 1s/step\n",
            "Test accuracy: 0.20000000298023224\n"
          ]
        }
      ],
      "source": [
        "import tensorflow as tf\n",
        "from tensorflow.keras.preprocessing.image import ImageDataGenerator\n",
        "from tensorflow.keras.models import Sequential\n",
        "from tensorflow.keras.layers import Conv2D, MaxPooling2D, Flatten, Dense\n",
        "\n",
        "# Prétraitement des données\n",
        "train_datagen = ImageDataGenerator(rescale=1./255)\n",
        "validation_datagen = ImageDataGenerator(rescale=1./255)\n",
        "test_datagen = ImageDataGenerator(rescale=1./255)\n",
        "\n",
        "train_generator = train_datagen.flow_from_directory(\n",
        "        train_dir,\n",
        "        target_size=(150, 150),\n",
        "        batch_size=20,\n",
        "        class_mode='binary')\n",
        "\n",
        "validation_generator = validation_datagen.flow_from_directory(\n",
        "        validation_dir,\n",
        "        target_size=(150, 150),\n",
        "        batch_size=20,\n",
        "        class_mode='binary')\n",
        "\n",
        "test_generator = test_datagen.flow_from_directory(\n",
        "        test_dir,\n",
        "        target_size=(150, 150),\n",
        "        batch_size=20,\n",
        "        class_mode='binary')\n",
        "\n",
        "# Création du modèle\n",
        "model = Sequential([\n",
        "    Conv2D(32, (3, 3), activation='relu', input_shape=(150, 150, 3)),\n",
        "    MaxPooling2D(2, 2),\n",
        "    Conv2D(32, (3, 3), activation='relu', input_shape=(150, 150, 3)),\n",
        "\n",
        "    Conv2D(64, (3, 3), activation='relu'),\n",
        "    MaxPooling2D(2, 2),\n",
        "    Conv2D(128, (3, 3), activation='relu'),\n",
        "    MaxPooling2D(2, 2),\n",
        "\n",
        "    Conv2D(128, (3, 3), activation='relu'),\n",
        "    MaxPooling2D(2, 2),\n",
        "     Conv2D(128, (3, 3), activation='relu'),\n",
        "    MaxPooling2D(2, 2),\n",
        "\n",
        "    Flatten(),\n",
        "    Dense(512, activation='relu'),\n",
        "    Dense(1, activation='sigmoid')\n",
        "\n",
        "\n",
        "])\n",
        "\n",
        "# Compilation du modèle\n",
        "model.compile(loss='binary_crossentropy',\n",
        "              optimizer='adam',\n",
        "              metrics=['accuracy'])\n",
        "\n",
        "# Entraînement du modèle\n",
        "history = model.fit(\n",
        "      train_generator,\n",
        "      steps_per_epoch=100,  # Nombre d'images dans train_generator // batch_size\n",
        "      epochs=30,\n",
        "      validation_data=validation_generator,\n",
        "      validation_steps=50,  # Nombre d'images dans validation_generator // batch_size\n",
        "      verbose=2)\n",
        "\n",
        "# Évaluation du modèle\n",
        "test_loss, test_acc = model.evaluate(test_generator, verbose=2)\n",
        "print('Test accuracy:', test_acc)\n"
      ]
    },
    {
      "cell_type": "code",
      "execution_count": null,
      "metadata": {
        "id": "wDMLFrm9dEcz"
      },
      "outputs": [],
      "source": [
        "#model 2"
      ]
    },
    {
      "cell_type": "code",
      "source": [],
      "metadata": {
        "id": "eNVF823s_Xs5"
      },
      "execution_count": null,
      "outputs": []
    },
    {
      "cell_type": "code",
      "source": [],
      "metadata": {
        "id": "xri2MANe_Xpn"
      },
      "execution_count": null,
      "outputs": []
    },
    {
      "cell_type": "code",
      "source": [],
      "metadata": {
        "id": "8McJ3PUd_XmJ"
      },
      "execution_count": null,
      "outputs": []
    },
    {
      "cell_type": "code",
      "source": [],
      "metadata": {
        "id": "xPE9tQuu_XjU"
      },
      "execution_count": null,
      "outputs": []
    },
    {
      "cell_type": "code",
      "source": [],
      "metadata": {
        "id": "XcvWYf92_XhH"
      },
      "execution_count": null,
      "outputs": []
    },
    {
      "cell_type": "code",
      "source": [],
      "metadata": {
        "id": "gLdrQLl5_XeK"
      },
      "execution_count": null,
      "outputs": []
    },
    {
      "cell_type": "code",
      "source": [],
      "metadata": {
        "id": "B8fCBboN_Xax"
      },
      "execution_count": null,
      "outputs": []
    },
    {
      "cell_type": "code",
      "source": [],
      "metadata": {
        "id": "9oOM-xsF_XYG"
      },
      "execution_count": null,
      "outputs": []
    },
    {
      "cell_type": "code",
      "source": [],
      "metadata": {
        "id": "5PZjDpPS_XV1"
      },
      "execution_count": null,
      "outputs": []
    },
    {
      "cell_type": "code",
      "source": [],
      "metadata": {
        "id": "gq8TPV8k_XTY"
      },
      "execution_count": null,
      "outputs": []
    },
    {
      "cell_type": "code",
      "source": [],
      "metadata": {
        "id": "sAE5KDfO_XL5"
      },
      "execution_count": null,
      "outputs": []
    }
  ],
  "metadata": {
    "colab": {
      "provenance": [],
      "authorship_tag": "ABX9TyNZBnUkgverDJSNa53NJBGe",
      "include_colab_link": true
    },
    "kernelspec": {
      "display_name": "Python 3",
      "name": "python3"
    },
    "language_info": {
      "name": "python"
    }
  },
  "nbformat": 4,
  "nbformat_minor": 0
}